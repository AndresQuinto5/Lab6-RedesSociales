{
 "cells": [
  {
   "cell_type": "markdown",
   "metadata": {},
   "source": [
    "Universidad del valle de Guatemala \n",
    "Andres Quinto \n",
    "Andree Toledo \n",
    "Laboratorio 6 DS / Analisis de redes sociales"
   ]
  },
  {
   "cell_type": "code",
   "execution_count": 3,
   "metadata": {},
   "outputs": [
    {
     "name": "stdout",
     "output_type": "stream",
     "text": [
      "Hola Mundo\n"
     ]
    }
   ],
   "source": [
    "# #API Y TOKENS\n",
    "API_KEY = \"twEQRTK5ZKiol9uVpHdjzbOiY\"\n",
    "API_KEY_SECRET = \"VB2zKLQGPsBRlQgMazxH3zZc1zSIanCadaJIlLMOhwsJsUMlPK\"\n",
    "TOKEN = \"AAAAAAAAAAAAAAAAAAAAACjHhAEAAAAAXTh0XtmjnvybscEUdMbHmEVf%2Bh0%3DlEvp6WSu8ngO5aSqxI98QmLcRs6jviM3ZyloVqNJFKyMH9D7T0\"\n"
   ]
  },
  {
   "cell_type": "code",
   "execution_count": null,
   "metadata": {},
   "outputs": [],
   "source": [
    "import tweepy\n",
    "import pandas as pd"
   ]
  }
 ],
 "metadata": {
  "kernelspec": {
   "display_name": "Python 3.7.0 64-bit",
   "language": "python",
   "name": "python3"
  },
  "language_info": {
   "codemirror_mode": {
    "name": "ipython",
    "version": 3
   },
   "file_extension": ".py",
   "mimetype": "text/x-python",
   "name": "python",
   "nbconvert_exporter": "python",
   "pygments_lexer": "ipython3",
   "version": "3.7.0"
  },
  "orig_nbformat": 4,
  "vscode": {
   "interpreter": {
    "hash": "5109d816b82be14675a6b11f8e0f0d2e80f029176ed3710d54e125caa8520dfd"
   }
  }
 },
 "nbformat": 4,
 "nbformat_minor": 2
}
