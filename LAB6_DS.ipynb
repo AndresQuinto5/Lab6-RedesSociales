{
 "cells": [
  {
   "cell_type": "markdown",
   "metadata": {},
   "source": [
    "Universidad del valle de Guatemala \n",
    "Andres Quinto \n",
    "Andree Toledo \n",
    "Laboratorio 6 DS / Analisis de redes sociales"
   ]
  },
  {
   "cell_type": "code",
   "execution_count": 4,
   "metadata": {},
   "outputs": [],
   "source": [
    "# #API Y TOKENS\n",
    "API_KEY = \"twEQRTK5ZKiol9uVpHdjzbOiY\"\n",
    "API_KEY_SECRET = \"VB2zKLQGPsBRlQgMazxH3zZc1zSIanCadaJIlLMOhwsJsUMlPK\"\n",
    "ACC_TOKEN=\"712902088011874304-RoL1YIpnD1KKw3WQT0PHbRsSigAs6KM\"\n",
    "ACC_TOKEN_SECRET=\"atAOOsJ2dg26eo6AmzdEahF392pGuNSYdRTEmS3wbZthg\"\n",
    "TOKEN = \"AAAAAAAAAAAAAAAAAAAAACjHhAEAAAAAXTh0XtmjnvybscEUdMbHmEVf%2Bh0%3DlEvp6WSu8ngO5aSqxI98QmLcRs6jviM3ZyloVqNJFKyMH9D7T0\"\n"
   ]
  },
  {
   "cell_type": "code",
   "execution_count": 6,
   "metadata": {},
   "outputs": [],
   "source": [
    "# #LIBRERIAS\n",
    "import tweepy\n",
    "import pandas as pd\n",
    "import re\n",
    "import string\n",
    "import demoji\n",
    "import seaborn as sns\n",
    "import matplotlib.pyplot as plt\n",
    "import numpy as np\n",
    "\n",
    "from nltk.tokenize import word_tokenize\n",
    "from nltk.corpus import stopwords\n",
    "from nltk.util import ngrams\n",
    "\n",
    "from collections import defaultdict\n",
    "from collections import  Counter\n",
    "\n",
    "from wordcloud import WordCloud\n",
    "\n",
    "#sklearn\n",
    "from sklearn.feature_extraction.text import CountVectorizer\n",
    "from sklearn import feature_extraction, linear_model, model_selection, preprocessing\n",
    "from sklearn.model_selection import train_test_split\n",
    "from sklearn.linear_model import LogisticRegression\n",
    "from sklearn.multiclass import OneVsRestClassifier\n",
    "from sklearn.ensemble import RandomForestRegressor, RandomForestClassifier\n",
    "from sklearn.feature_extraction.text import TfidfVectorizer"
   ]
  },
  {
   "cell_type": "code",
   "execution_count": 8,
   "metadata": {},
   "outputs": [
    {
     "name": "stdout",
     "output_type": "stream",
     "text": [
      "Cantidad de Tweets extraidos: 200\n"
     ]
    }
   ],
   "source": [
    "#useful tutorial https://youtu.be/bNDRiaFyLrs\n",
    "#oauth\n",
    "auth = tweepy.OAuth1UserHandler(\n",
    "    API_KEY, \n",
    "    API_KEY_SECRET, \n",
    "    ACC_TOKEN, \n",
    "    ACC_TOKEN_SECRET\n",
    ")\n",
    "\n",
    "api = tweepy.API(auth, wait_on_rate_limit=True)\n",
    "#How to build a query on the api: https://developer.twitter.com/en/docs/twitter-api/tweets/search/integrate/build-a-query\n",
    "search_query = \"#traficogt OR @amilcarmontejo OR #TránsitoSCP OR #traficoGT -filter:retweets\"\n",
    "\n",
    "tweets = tweepy.Cursor(api.search_tweets,\n",
    "            q=search_query,\n",
    "            lang=\"es\").items(200)\n",
    "\n",
    "\n",
    "#lista\n",
    "tweets_copy = []\n",
    "for tweet in tweets:\n",
    "    tweets_copy.append(tweet)\n",
    "    \n",
    "print(\"Cantidad de Tweets extraidos:\", len(tweets_copy))"
   ]
  }
 ],
 "metadata": {
  "kernelspec": {
   "display_name": "Python 3.7.0 64-bit",
   "language": "python",
   "name": "python3"
  },
  "language_info": {
   "codemirror_mode": {
    "name": "ipython",
    "version": 3
   },
   "file_extension": ".py",
   "mimetype": "text/x-python",
   "name": "python",
   "nbconvert_exporter": "python",
   "pygments_lexer": "ipython3",
   "version": "3.7.0"
  },
  "orig_nbformat": 4,
  "vscode": {
   "interpreter": {
    "hash": "5109d816b82be14675a6b11f8e0f0d2e80f029176ed3710d54e125caa8520dfd"
   }
  }
 },
 "nbformat": 4,
 "nbformat_minor": 2
}
